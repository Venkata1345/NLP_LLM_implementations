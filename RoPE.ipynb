{
  "nbformat": 4,
  "nbformat_minor": 0,
  "metadata": {
    "colab": {
      "provenance": [],
      "authorship_tag": "ABX9TyOu4AgdrPQdoyxBarX3jAYt",
      "include_colab_link": true
    },
    "kernelspec": {
      "name": "python3",
      "display_name": "Python 3"
    },
    "language_info": {
      "name": "python"
    }
  },
  "cells": [
    {
      "cell_type": "markdown",
      "metadata": {
        "id": "view-in-github",
        "colab_type": "text"
      },
      "source": [
        "<a href=\"https://colab.research.google.com/github/Venkata1345/NLP_LLM_implementations/blob/main/RoPE.ipynb\" target=\"_parent\"><img src=\"https://colab.research.google.com/assets/colab-badge.svg\" alt=\"Open In Colab\"/></a>"
      ]
    },
    {
      "cell_type": "code",
      "source": [
        "import numpy as np\n",
        "def apply_rope(embeddings,base=10000.0):\n",
        "  seq_len,dim=embeddings.shape\n",
        "  positions=np.arange(seq_len,dtype=float).reshape(seq_len,1)\n",
        "  half_dim=dim//2\n",
        "  i_values=np.arange(half_dim,dtype=float)\n",
        "  inv_freq = base ** (- (2 * i_values) / dim) # Shape: (dim/2,)\n",
        "  inv_freq = inv_freq.reshape(1, half_dim)    # Shape: (1, dim/2)\n",
        "  angles=positions*inv_freq\n",
        "  cos_angles=np.cos(angles)\n",
        "  sin_angles=np.sin(angles)\n",
        "  x_even=embeddings[:,0::2]\n",
        "  x_odd=embeddings[:,1::2]\n",
        "  rotated_x_even=x_even*cos_angles-x_odd*sin_angles\n",
        "  rotated_x_odd=x_odd*cos_angles+x_even*sin_angles\n",
        "  rotated_embeddings = np.empty_like(embeddings)\n",
        "  rotated_embeddings[:, 0::2] = rotated_x_even\n",
        "  rotated_embeddings[:, 1::2] = rotated_x_odd\n",
        "  return rotated_embeddings\n",
        "\n",
        "if __name__ == \"__main__\":\n",
        "    # Configuration\n",
        "    seq_len = 5\n",
        "    dim = 8  # Must be even\n",
        "    rope_base = 10000.0\n",
        "\n",
        "    print(f\"Configuration: seq_len={seq_len}, dim={dim}, base={rope_base}\\n\")\n",
        "    q_original = np.array([0.1, 0.2, 0.3, 0.4, 0.5, 0.6, 0.7, 0.8], dtype=float)\n",
        "    k_original = np.array([0.8, 0.7, 0.6, 0.5, 0.4, 0.3, 0.2, 0.1], dtype=float)\n",
        "    print(\"Original q vector:\", q_original)\n",
        "    print(\"Original k vector:\", k_original)\n",
        "    print(\"-\" * 30)\n",
        "\n",
        "    example_embeddings = np.zeros((seq_len, dim))\n",
        "    example_embeddings[0, :] = q_original # q at pos 0\n",
        "    example_embeddings[1, :] = k_original # k at pos 1\n",
        "    example_embeddings[2, :] = q_original # q at pos 2\n",
        "    example_embeddings[3, :] = k_original # k at pos 3\n",
        "    example_embeddings[4, :] = q_original # q at pos 4\n",
        "\n",
        "    rotated_example_embeddings=apply_rope(example_embeddings,base=rope_base)\n",
        "        # Extract the rotated vectors\n",
        "    q_pos0_rope = rotated_example_embeddings[0, :]\n",
        "    k_pos1_rope = rotated_example_embeddings[1, :]\n",
        "    q_pos2_rope = rotated_example_embeddings[2, :]\n",
        "    k_pos3_rope = rotated_example_embeddings[3, :]\n",
        "    q_pos4_rope = rotated_example_embeddings[4, :]\n",
        "\n",
        "    print(\"\\n--- Rotated Vectors (examples) ---\")\n",
        "    print(f\"q at pos 0 (RoPE applied): {q_pos0_rope[:4]}...\") # Print first 4 elements for brevity\n",
        "    print(f\"k at pos 1 (RoPE applied): {k_pos1_rope[:4]}...\")\n",
        "    print(f\"q at pos 2 (RoPE applied): {q_pos2_rope[:4]}...\")\n",
        "    print(f\"k at pos 3 (RoPE applied): {k_pos3_rope[:4]}...\")\n",
        "    print(\"-\" * 30)\n",
        "\n"
      ],
      "metadata": {
        "colab": {
          "base_uri": "https://localhost:8080/"
        },
        "id": "-E6zS8qTbl_D",
        "outputId": "3e0cd4f8-abd7-4098-863b-24114a2445ad"
      },
      "execution_count": 5,
      "outputs": [
        {
          "output_type": "stream",
          "name": "stdout",
          "text": [
            "Configuration: seq_len=5, dim=8, base=10000.0\n",
            "\n",
            "Original q vector: [0.1 0.2 0.3 0.4 0.5 0.6 0.7 0.8]\n",
            "Original k vector: [0.8 0.7 0.6 0.5 0.4 0.3 0.2 0.1]\n",
            "------------------------------\n",
            "\n",
            "--- Rotated Vectors (examples) ---\n",
            "q at pos 0 (RoPE applied): [0.1 0.2 0.3 0.4]...\n",
            "k at pos 1 (RoPE applied): [-0.15678784  1.0513884   0.54708579  0.55740213]...\n",
            "q at pos 2 (RoPE applied): [-0.22347417  0.00770038  0.21455224  0.45162743]...\n",
            "k at pos 3 (RoPE applied): [-0.890778   -0.58009874  0.42544179  0.65498037]...\n",
            "------------------------------\n"
          ]
        }
      ]
    },
    {
      "cell_type": "code",
      "source": [],
      "metadata": {
        "id": "4dP9EoNjfqHa"
      },
      "execution_count": null,
      "outputs": []
    }
  ]
}