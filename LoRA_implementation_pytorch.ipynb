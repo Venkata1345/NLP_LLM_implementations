{
  "nbformat": 4,
  "nbformat_minor": 0,
  "metadata": {
    "colab": {
      "provenance": [],
      "gpuType": "T4",
      "authorship_tag": "ABX9TyMgwORFz3JIvo/+0RUgcMyV"
    },
    "kernelspec": {
      "name": "python3",
      "display_name": "Python 3"
    },
    "language_info": {
      "name": "python"
    },
    "accelerator": "GPU"
  },
  "cells": [
    {
      "cell_type": "code",
      "execution_count": 1,
      "metadata": {
        "id": "wOiGrtNZwDlA"
      },
      "outputs": [],
      "source": [
        "import torch\n",
        "import torchvision.datasets as datasets\n",
        "import torchvision.transforms as transforms\n",
        "import torch.nn as nn\n",
        "import matplotlib.pyplot as plt\n",
        "from tqdm import tqdm\n"
      ]
    },
    {
      "cell_type": "code",
      "source": [
        "_=torch.manual_seed(0)"
      ],
      "metadata": {
        "id": "NMgYsKl93MUs"
      },
      "execution_count": 2,
      "outputs": []
    },
    {
      "cell_type": "code",
      "source": [
        "transform= transforms.Compose([transforms.ToTensor(), transforms.Normalize((0.1307,),(0.3081,))])"
      ],
      "metadata": {
        "id": "s4IbYTRE3V0G"
      },
      "execution_count": 3,
      "outputs": []
    },
    {
      "cell_type": "code",
      "source": [
        "mnist_train=datasets.MNIST(root='./data',train=True,download=True,transform=transform)"
      ],
      "metadata": {
        "colab": {
          "base_uri": "https://localhost:8080/"
        },
        "id": "z9i-cyA232dn",
        "outputId": "df61a17c-652c-47d4-a3a5-e05bc53fe1c9"
      },
      "execution_count": 4,
      "outputs": [
        {
          "output_type": "stream",
          "name": "stderr",
          "text": [
            "100%|██████████| 9.91M/9.91M [00:00<00:00, 18.2MB/s]\n",
            "100%|██████████| 28.9k/28.9k [00:00<00:00, 485kB/s]\n",
            "100%|██████████| 1.65M/1.65M [00:00<00:00, 4.54MB/s]\n",
            "100%|██████████| 4.54k/4.54k [00:00<00:00, 6.80MB/s]\n"
          ]
        }
      ]
    },
    {
      "cell_type": "code",
      "source": [
        "train_loader=torch.utils.data.DataLoader(mnist_train,batch_size=10,shuffle=True)"
      ],
      "metadata": {
        "id": "jKUWmmQ04G_e"
      },
      "execution_count": 5,
      "outputs": []
    },
    {
      "cell_type": "code",
      "source": [
        "mnist_test=datasets.MNIST(root='./data',train=False,download=True, transform=transform)\n",
        "test_loader=torch.utils.data.DataLoader(mnist_test,batch_size=10, shuffle=True)"
      ],
      "metadata": {
        "id": "OQWHdrng4WYe"
      },
      "execution_count": 6,
      "outputs": []
    },
    {
      "cell_type": "code",
      "source": [
        "device=\"cuda\" if torch.cuda.is_available() else \"cpu\""
      ],
      "metadata": {
        "id": "rT9YocUb6opI"
      },
      "execution_count": 7,
      "outputs": []
    },
    {
      "cell_type": "code",
      "source": [
        "class BigNet(nn.Module):\n",
        "  def __init__(self,hidden_size_1=1000,hidden_size_2=2000):\n",
        "    super(BigNet,self).__init__()\n",
        "    self.linear1=nn.Linear(28*28,hidden_size_1)\n",
        "    self.linear2=nn.Linear(hidden_size_1,hidden_size_2)\n",
        "    self.linear3=nn.Linear(hidden_size_2,10)\n",
        "    self.relu=nn.ReLU()\n",
        "\n",
        "  def forward(self,img):\n",
        "    x=img.view(-1,28*28)\n",
        "    x=self.relu(self.linear1(x))\n",
        "    x=self.relu(self.linear2(x))\n",
        "    x=self.linear3(x)\n",
        "    return x\n",
        "\n",
        "net=BigNet().to(device)"
      ],
      "metadata": {
        "id": "xr7fH_d44ym2"
      },
      "execution_count": 10,
      "outputs": []
    },
    {
      "cell_type": "code",
      "source": [
        "def train(train_loader,net,epochs=5,total_iterations_limit=None):\n",
        "  cross_loss=nn.CrossEntropyLoss()\n",
        "  optimizer=torch.optim.Adam(net.parameters(),lr=0.001)\n",
        "  total_iterations=0\n",
        "  for epoch in range(epochs):\n",
        "    net.train()\n",
        "    loss_sum=0\n",
        "    num_iterations=0\n",
        "    data_iterator=tqdm(train_loader,desc=f'Epoch {epoch+1}')\n",
        "    if total_iterations_limit is not None:\n",
        "      data_iterator.total=total_iterations_limit\n",
        "    for data in data_iterator:\n",
        "      num_iterations+=1\n",
        "      total_iterations+=1\n",
        "      x,y=data\n",
        "      x=x.to(device)\n",
        "      y=y.to(device)\n",
        "      optimizer.zero_grad()\n",
        "      output=net(x.view(-1,28*28))\n",
        "      loss=cross_loss(output,y)\n",
        "      loss_sum+=loss.item()\n",
        "      avg_loss=loss_sum/num_iterations\n",
        "      data_iterator.set_postfix(loss=avg_loss)\n",
        "      loss.backward()\n",
        "      optimizer.step()\n",
        "      if total_iterations_limit is not None and total_iterations >= total_iterations_limit:\n",
        "        return\n",
        "\n",
        "train(train_loader, net, epochs=1)\n"
      ],
      "metadata": {
        "colab": {
          "base_uri": "https://localhost:8080/"
        },
        "id": "_f93xTEt64Jr",
        "outputId": "fae06926-ed60-426b-eb40-d6a36f44f2e9"
      },
      "execution_count": 12,
      "outputs": [
        {
          "output_type": "stream",
          "name": "stderr",
          "text": [
            "Epoch 1: 100%|██████████| 6000/6000 [00:30<00:00, 195.89it/s, loss=0.241]\n"
          ]
        }
      ]
    },
    {
      "cell_type": "code",
      "source": [
        "original_weights = {}\n",
        "for name, param in net.named_parameters():\n",
        "    original_weights[name] = param.clone().detach()"
      ],
      "metadata": {
        "id": "H7VmL-3Z9jnb"
      },
      "execution_count": 13,
      "outputs": []
    },
    {
      "cell_type": "code",
      "source": [
        "def test():\n",
        "    correct = 0\n",
        "    total = 0\n",
        "\n",
        "    wrong_counts = [0 for i in range(10)]\n",
        "\n",
        "    with torch.no_grad():\n",
        "        for data in tqdm(test_loader, desc='Testing'):\n",
        "            x, y = data\n",
        "            x = x.to(device)\n",
        "            y = y.to(device)\n",
        "            output = net(x.view(-1, 784))\n",
        "            for idx, i in enumerate(output):\n",
        "                if torch.argmax(i) == y[idx]:\n",
        "                    correct +=1\n",
        "                else:\n",
        "                    wrong_counts[y[idx]] +=1\n",
        "                total +=1\n",
        "    print(f'Accuracy: {round(correct/total, 3)}')\n",
        "    for i in range(len(wrong_counts)):\n",
        "        print(f'wrong counts for the digit {i}: {wrong_counts[i]}')\n",
        "\n",
        "test()"
      ],
      "metadata": {
        "colab": {
          "base_uri": "https://localhost:8080/"
        },
        "id": "YEpNG_Rp90M6",
        "outputId": "39a9bc06-1b2d-4c36-eeaa-047ff7555b88"
      },
      "execution_count": 14,
      "outputs": [
        {
          "output_type": "stream",
          "name": "stderr",
          "text": [
            "Testing: 100%|██████████| 1000/1000 [00:03<00:00, 277.84it/s]"
          ]
        },
        {
          "output_type": "stream",
          "name": "stdout",
          "text": [
            "Accuracy: 0.96\n",
            "wrong counts for the digit 0: 11\n",
            "wrong counts for the digit 1: 9\n",
            "wrong counts for the digit 2: 59\n",
            "wrong counts for the digit 3: 42\n",
            "wrong counts for the digit 4: 64\n",
            "wrong counts for the digit 5: 65\n",
            "wrong counts for the digit 6: 19\n",
            "wrong counts for the digit 7: 56\n",
            "wrong counts for the digit 8: 34\n",
            "wrong counts for the digit 9: 41\n"
          ]
        },
        {
          "output_type": "stream",
          "name": "stderr",
          "text": [
            "\n"
          ]
        }
      ]
    },
    {
      "cell_type": "code",
      "source": [
        "# Print the size of the weights matrices of the network\n",
        "# Save the count of the total number of parameters\n",
        "total_parameters_original = 0\n",
        "for index, layer in enumerate([net.linear1, net.linear2, net.linear3]):\n",
        "    total_parameters_original += layer.weight.nelement() + layer.bias.nelement()\n",
        "    print(f'Layer {index+1}: W: {layer.weight.shape} + B: {layer.bias.shape}')\n",
        "print(f'Total number of parameters: {total_parameters_original:,}')"
      ],
      "metadata": {
        "colab": {
          "base_uri": "https://localhost:8080/"
        },
        "id": "S2sYW-tC92iz",
        "outputId": "aebb799c-5925-487c-b3c6-fd5c3feff543"
      },
      "execution_count": 15,
      "outputs": [
        {
          "output_type": "stream",
          "name": "stdout",
          "text": [
            "Layer 1: W: torch.Size([1000, 784]) + B: torch.Size([1000])\n",
            "Layer 2: W: torch.Size([2000, 1000]) + B: torch.Size([2000])\n",
            "Layer 3: W: torch.Size([10, 2000]) + B: torch.Size([10])\n",
            "Total number of parameters: 2,807,010\n"
          ]
        }
      ]
    },
    {
      "cell_type": "code",
      "source": [
        "class LoRAParametrization(nn.Module):\n",
        "    def __init__(self, features_in, features_out, rank=1, alpha=1, device='cpu'):\n",
        "        super().__init__()\n",
        "        # Section 4.1 of the paper:\n",
        "        #   We use a random Gaussian initialization for A and zero for B, so ∆W = BA is zero at the beginning of training\n",
        "        self.lora_A = nn.Parameter(torch.zeros((rank,features_out)).to(device))\n",
        "        self.lora_B = nn.Parameter(torch.zeros((features_in, rank)).to(device))\n",
        "        nn.init.normal_(self.lora_A, mean=0, std=1)\n",
        "\n",
        "\n",
        "        #   We then scale ∆Wx by α/r , where α is a constant in r.\n",
        "        #   When optimizing with Adam, tuning α is roughly the same as tuning the learning rate if we scale the initialization appropriately.\n",
        "        #   As a result, we simply set α to the first r we try and do not tune it.\n",
        "        #   This scaling helps to reduce the need to retune hyperparameters when we vary r.\n",
        "        self.scale = alpha / rank\n",
        "        self.enabled = True\n",
        "\n",
        "    def forward(self, original_weights):\n",
        "        if self.enabled:\n",
        "            # Return W + (B*A)*scale\n",
        "            return original_weights + torch.matmul(self.lora_B, self.lora_A).view(original_weights.shape) * self.scale\n",
        "        else:\n",
        "            return original_weights"
      ],
      "metadata": {
        "id": "DO6B57Ub99Oi"
      },
      "execution_count": 16,
      "outputs": []
    },
    {
      "cell_type": "code",
      "source": [
        "import torch.nn.utils.parametrize as parametrize\n",
        "\n",
        "def linear_layer_parameterization(layer, device, rank=1, lora_alpha=1):\n",
        "    # Only add the parameterization to the weight matrix, ignore the Bias\n",
        "\n",
        "    # From section 4.2 of the paper:\n",
        "    #   We limit our study to only adapting the attention weights for downstream tasks and freeze the MLP modules (so they are not trained in downstream tasks) both for simplicity and parameter-efficiency.\n",
        "    #   [...]\n",
        "    #   We leave the empirical investigation of [...], and biases to a future work.\n",
        "\n",
        "    features_in, features_out = layer.weight.shape\n",
        "    return LoRAParametrization(\n",
        "        features_in, features_out, rank=rank, alpha=lora_alpha, device=device\n",
        "    )\n",
        "\n",
        "parametrize.register_parametrization(\n",
        "    net.linear1, \"weight\", linear_layer_parameterization(net.linear1, device)\n",
        ")\n",
        "parametrize.register_parametrization(\n",
        "    net.linear2, \"weight\", linear_layer_parameterization(net.linear2, device)\n",
        ")\n",
        "parametrize.register_parametrization(\n",
        "    net.linear3, \"weight\", linear_layer_parameterization(net.linear3, device)\n",
        ")\n",
        "\n",
        "\n",
        "def enable_disable_lora(enabled=True):\n",
        "    for layer in [net.linear1, net.linear2, net.linear3]:\n",
        "        layer.parametrizations[\"weight\"][0].enabled = enabled"
      ],
      "metadata": {
        "id": "ixpdX0tT-hVb"
      },
      "execution_count": 17,
      "outputs": []
    },
    {
      "cell_type": "code",
      "source": [
        "total_parameters_lora = 0\n",
        "total_parameters_non_lora = 0\n",
        "for index, layer in enumerate([net.linear1, net.linear2, net.linear3]):\n",
        "    total_parameters_lora += layer.parametrizations[\"weight\"][0].lora_A.nelement() + layer.parametrizations[\"weight\"][0].lora_B.nelement()\n",
        "    total_parameters_non_lora += layer.weight.nelement() + layer.bias.nelement()\n",
        "    print(\n",
        "        f'Layer {index+1}: W: {layer.weight.shape} + B: {layer.bias.shape} + Lora_A: {layer.parametrizations[\"weight\"][0].lora_A.shape} + Lora_B: {layer.parametrizations[\"weight\"][0].lora_B.shape}'\n",
        "    )\n",
        "# The non-LoRA parameters count must match the original network\n",
        "assert total_parameters_non_lora == total_parameters_original\n",
        "print(f'Total number of parameters (original): {total_parameters_non_lora:,}')\n",
        "print(f'Total number of parameters (original + LoRA): {total_parameters_lora + total_parameters_non_lora:,}')\n",
        "print(f'Parameters introduced by LoRA: {total_parameters_lora:,}')\n",
        "parameters_incremment = (total_parameters_lora / total_parameters_non_lora) * 100\n",
        "print(f'Parameters incremment: {parameters_incremment:.3f}%')"
      ],
      "metadata": {
        "colab": {
          "base_uri": "https://localhost:8080/"
        },
        "id": "sSD0bDtf-kRS",
        "outputId": "76940725-bd95-49ba-9b9f-08d297866ae6"
      },
      "execution_count": 18,
      "outputs": [
        {
          "output_type": "stream",
          "name": "stdout",
          "text": [
            "Layer 1: W: torch.Size([1000, 784]) + B: torch.Size([1000]) + Lora_A: torch.Size([1, 784]) + Lora_B: torch.Size([1000, 1])\n",
            "Layer 2: W: torch.Size([2000, 1000]) + B: torch.Size([2000]) + Lora_A: torch.Size([1, 1000]) + Lora_B: torch.Size([2000, 1])\n",
            "Layer 3: W: torch.Size([10, 2000]) + B: torch.Size([10]) + Lora_A: torch.Size([1, 2000]) + Lora_B: torch.Size([10, 1])\n",
            "Total number of parameters (original): 2,807,010\n",
            "Total number of parameters (original + LoRA): 2,813,804\n",
            "Parameters introduced by LoRA: 6,794\n",
            "Parameters incremment: 0.242%\n"
          ]
        }
      ]
    },
    {
      "cell_type": "code",
      "source": [
        "# Freeze the non-Lora parameters\n",
        "for name, param in net.named_parameters():\n",
        "    if 'lora' not in name:\n",
        "        print(f'Freezing non-LoRA parameter {name}')\n",
        "        param.requires_grad = False\n",
        "\n",
        "# Load the MNIST dataset again, by keeping only the digit 9\n",
        "mnist_trainset = datasets.MNIST(root='./data', train=True, download=True, transform=transform)\n",
        "exclude_indices = mnist_trainset.targets == 9\n",
        "mnist_trainset.data = mnist_trainset.data[exclude_indices]\n",
        "mnist_trainset.targets = mnist_trainset.targets[exclude_indices]\n",
        "# Create a dataloader for the training\n",
        "train_loader = torch.utils.data.DataLoader(mnist_trainset, batch_size=10, shuffle=True)\n",
        "\n",
        "# Train the network with LoRA only on the digit 9 and only for 100 batches (hoping that it would improve the performance on the digit 9)\n",
        "train(train_loader, net, epochs=1, total_iterations_limit=100)"
      ],
      "metadata": {
        "colab": {
          "base_uri": "https://localhost:8080/"
        },
        "id": "T8iogOEF-ms4",
        "outputId": "33de9f5e-cbe7-46fb-cd72-d5a3ed69c385"
      },
      "execution_count": 19,
      "outputs": [
        {
          "output_type": "stream",
          "name": "stdout",
          "text": [
            "Freezing non-LoRA parameter linear1.bias\n",
            "Freezing non-LoRA parameter linear1.parametrizations.weight.original\n",
            "Freezing non-LoRA parameter linear2.bias\n",
            "Freezing non-LoRA parameter linear2.parametrizations.weight.original\n",
            "Freezing non-LoRA parameter linear3.bias\n",
            "Freezing non-LoRA parameter linear3.parametrizations.weight.original\n"
          ]
        },
        {
          "output_type": "stream",
          "name": "stderr",
          "text": [
            "Epoch 1:  99%|█████████▉| 99/100 [00:01<00:00, 55.64it/s, loss=0.063]\n"
          ]
        }
      ]
    },
    {
      "cell_type": "code",
      "source": [
        "# Check that the frozen parameters are still unchanged by the finetuning\n",
        "assert torch.all(net.linear1.parametrizations.weight.original == original_weights['linear1.weight'])\n",
        "assert torch.all(net.linear2.parametrizations.weight.original == original_weights['linear2.weight'])\n",
        "assert torch.all(net.linear3.parametrizations.weight.original == original_weights['linear3.weight'])\n",
        "\n",
        "enable_disable_lora(enabled=True)\n",
        "# The new linear1.weight is obtained by the \"forward\" function of our LoRA parametrization\n",
        "# The original weights have been moved to net.linear1.parametrizations.weight.original\n",
        "assert torch.equal(net.linear1.weight, net.linear1.parametrizations.weight.original + (net.linear1.parametrizations.weight[0].lora_B @ net.linear1.parametrizations.weight[0].lora_A) * net.linear1.parametrizations.weight[0].scale)\n",
        "\n",
        "enable_disable_lora(enabled=False)\n",
        "# If we disable LoRA, the linear1.weight is the original one\n",
        "assert torch.equal(net.linear1.weight, original_weights['linear1.weight'])"
      ],
      "metadata": {
        "id": "P-zRjdKG-uqK"
      },
      "execution_count": 20,
      "outputs": []
    },
    {
      "cell_type": "code",
      "source": [
        "# Test with LoRA enabled\n",
        "enable_disable_lora(enabled=True)\n",
        "test()"
      ],
      "metadata": {
        "colab": {
          "base_uri": "https://localhost:8080/"
        },
        "id": "XTGWEi00-yaa",
        "outputId": "cebeeeb6-df7e-4b05-e816-9bbc15a2aa44"
      },
      "execution_count": 21,
      "outputs": [
        {
          "output_type": "stream",
          "name": "stderr",
          "text": [
            "Testing: 100%|██████████| 1000/1000 [00:03<00:00, 287.08it/s]"
          ]
        },
        {
          "output_type": "stream",
          "name": "stdout",
          "text": [
            "Accuracy: 0.884\n",
            "wrong counts for the digit 0: 28\n",
            "wrong counts for the digit 1: 13\n",
            "wrong counts for the digit 2: 56\n",
            "wrong counts for the digit 3: 102\n",
            "wrong counts for the digit 4: 251\n",
            "wrong counts for the digit 5: 153\n",
            "wrong counts for the digit 6: 23\n",
            "wrong counts for the digit 7: 448\n",
            "wrong counts for the digit 8: 68\n",
            "wrong counts for the digit 9: 13\n"
          ]
        },
        {
          "output_type": "stream",
          "name": "stderr",
          "text": [
            "\n"
          ]
        }
      ]
    },
    {
      "cell_type": "code",
      "source": [
        "# Test with LoRA disabled\n",
        "enable_disable_lora(enabled=False)\n",
        "test()"
      ],
      "metadata": {
        "colab": {
          "base_uri": "https://localhost:8080/"
        },
        "id": "KDjkAOY1-2WZ",
        "outputId": "019f64bb-4025-47aa-c1ba-3b613e1ec018"
      },
      "execution_count": 22,
      "outputs": [
        {
          "output_type": "stream",
          "name": "stderr",
          "text": [
            "Testing: 100%|██████████| 1000/1000 [00:02<00:00, 335.03it/s]"
          ]
        },
        {
          "output_type": "stream",
          "name": "stdout",
          "text": [
            "Accuracy: 0.96\n",
            "wrong counts for the digit 0: 11\n",
            "wrong counts for the digit 1: 9\n",
            "wrong counts for the digit 2: 59\n",
            "wrong counts for the digit 3: 42\n",
            "wrong counts for the digit 4: 64\n",
            "wrong counts for the digit 5: 65\n",
            "wrong counts for the digit 6: 19\n",
            "wrong counts for the digit 7: 56\n",
            "wrong counts for the digit 8: 34\n",
            "wrong counts for the digit 9: 41\n"
          ]
        },
        {
          "output_type": "stream",
          "name": "stderr",
          "text": [
            "\n"
          ]
        }
      ]
    },
    {
      "cell_type": "code",
      "source": [],
      "metadata": {
        "id": "yatTuMRb-7A4"
      },
      "execution_count": null,
      "outputs": []
    }
  ]
}